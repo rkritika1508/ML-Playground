{
 "cells": [
  {
   "cell_type": "code",
   "execution_count": 1,
   "metadata": {},
   "outputs": [],
   "source": [
    "import numpy as np"
   ]
  },
  {
   "cell_type": "code",
   "execution_count": 2,
   "metadata": {},
   "outputs": [],
   "source": [
    "X = np.array([[1,0,1,0],[1,0,1,1],[0,1,0,0]]) #Input array"
   ]
  },
  {
   "cell_type": "code",
   "execution_count": 3,
   "metadata": {},
   "outputs": [],
   "source": [
    "y = np.array([[1],[1],[0]]) #Output array"
   ]
  },
  {
   "cell_type": "code",
   "execution_count": 4,
   "metadata": {},
   "outputs": [],
   "source": [
    "#Sigmoid function\n",
    "def sigmoid(x):\n",
    "    return 1/(1+np.exp(-x))"
   ]
  },
  {
   "cell_type": "code",
   "execution_count": 5,
   "metadata": {},
   "outputs": [],
   "source": [
    "#Derivative of sigmoid function\n",
    "def derivates_sigmoid(x):\n",
    "    return x*(1-x)"
   ]
  },
  {
   "cell_type": "code",
   "execution_count": 8,
   "metadata": {},
   "outputs": [],
   "source": [
    "epoch = 5000 #Training iterations\n",
    "learning_rate = 0.2\n",
    "inputlayer_neurons = X.shape[1] #No of features in dataset\n",
    "hiddenlayer_neurons = 3 #No of hidden layer neurons\n",
    "output_neurons = 1 #No of neurons in output layer"
   ]
  },
  {
   "cell_type": "code",
   "execution_count": 9,
   "metadata": {},
   "outputs": [],
   "source": [
    "#Weight and bias initialisation\n",
    "wh = np.random.uniform(size=(inputlayer_neurons,hiddenlayer_neurons))\n",
    "bh = np.random.uniform(size=(1,hiddenlayer_neurons))\n",
    "wout = np.random.uniform(size=(hiddenlayer_neurons, output_neurons))\n",
    "bout = np.random.uniform(size=(1,output_neurons))"
   ]
  },
  {
   "cell_type": "code",
   "execution_count": 10,
   "metadata": {},
   "outputs": [],
   "source": [
    "for i in range(epoch):\n",
    "    #Forward propagation\n",
    "    hiddenlayer_input_temp = np.dot(X,wh)\n",
    "    hidden_layer_input = hiddenlayer_input_temp + bh\n",
    "    hiddenlayer_activations = sigmoid(hidden_layer_input)\n",
    "    outputlayer_input_temp = np.dot(hiddenlayer_activations, wout)\n",
    "    output_layer_input = outputlayer_input_temp + bout\n",
    "    output = sigmoid(output_layer_input)\n",
    "    \n",
    "    #Backward Propagation\n",
    "    E = y - output\n",
    "    slope_output_layer = derivates_sigmoid(output)\n",
    "    slope_hidden_layer = derivates_sigmoid(hiddenlayer_activations)\n",
    "    d_output = E*slope_output_layer\n",
    "    Error_at_hidden_layer = np.dot(d_output, wout.T)\n",
    "    d_hiddenlayer = Error_at_hidden_layer * slope_hidden_layer\n",
    "    \n",
    "    #Update weights\n",
    "    wout += np.dot(hiddenlayer_activations.T, d_output) * learning_rate\n",
    "    wh +=  np.dot(X.T, d_hiddenlayer) * learning_rate\n",
    "    \n",
    "    #Update bias\n",
    "    bh += np.sum(d_hiddenlayer, axis=0, keepdims=True) * learning_rate\n",
    "    bout += np.sum(d_output, axis=0, keepdims=True) * learning_rate"
   ]
  },
  {
   "cell_type": "code",
   "execution_count": 11,
   "metadata": {},
   "outputs": [
    {
     "name": "stdout",
     "output_type": "stream",
     "text": [
      "[[0.98026285]\n",
      " [0.98446212]\n",
      " [0.02787537]]\n"
     ]
    }
   ],
   "source": [
    "print(output)"
   ]
  },
  {
   "cell_type": "code",
   "execution_count": null,
   "metadata": {},
   "outputs": [],
   "source": []
  }
 ],
 "metadata": {
  "kernelspec": {
   "display_name": "Python 3",
   "language": "python",
   "name": "python3"
  },
  "language_info": {
   "codemirror_mode": {
    "name": "ipython",
    "version": 3
   },
   "file_extension": ".py",
   "mimetype": "text/x-python",
   "name": "python",
   "nbconvert_exporter": "python",
   "pygments_lexer": "ipython3",
   "version": "3.6.6"
  }
 },
 "nbformat": 4,
 "nbformat_minor": 2
}
